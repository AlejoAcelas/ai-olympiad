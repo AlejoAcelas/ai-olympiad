{
  "cells": [
    {
      "cell_type": "markdown",
      "metadata": {
        "id": "6H0w6XUXcrJk"
      },
      "source": [
        "# Word Vectors Gone Wrong: Fixing Gender Stereotypes in Language Models\n",
        "\n",
        "## Problem Description\n",
        "\n",
        "\n",
        "Language models process words as arrays of  numbers, called word vectors (or word embeddings). These vectors are created based on the usage of the words in context, so they capture the distributional properties of words. Word vectors can be conceptualized as unique coordinates in a multi-dimensional space, with the distance between them capturing the semantic and syntactic relations between words.\n",
        "\n",
        "In a seminal [article](https://aclanthology.org/P16-1158/) Ekaterina Vylomova and colleagues show that word vectors trained on English data exhibit a curious property: the spatial difference between the vectors of 'king' and 'queen' is the same as the difference between the vectors of 'man' and 'woman'. This difference essentially captures **gender**. Similarly, the difference between 'king' and 'man' is the same as that between 'queen' and 'woman', capturing the notion of royalty.\n",
        "\n",
        "The way gender is reflected in word vectors has received special attention in NLP, because while sometimes word vectors capture true gender roles (e.g. a king is by definition male), other times they capture undesirable societal biases, e.g. they place 'engineer' and 'man' in the same relationship as 'housekeeper' and 'woman'. This does not seem fair, given that professions such as engineer or housekeeper should be non-gender specific.\n",
        "\n",
        "![](https://i.ibb.co/RNjF8MH/Screenshot-2023-11-22-at-16-01-27.png)\n",
        "\n",
        "We don't want to have models that promote stereotypes about which jobs are suitable for men or women, so we should find a way to fix this problem. The tasks presented in this notebook will guide you to one possible solution.\n",
        "\n",
        "## Technical Specifications\n",
        "\n",
        "All team solutions should be submitted as a modified and compiled copy of this base notebook. You also need to provide a file of the word vectors you created.\n",
        "\n",
        "The notebook contains specific tasks you need to accomplish and provides code when necessary. Some cells, marked with the `###DO NOT CHANGE THIS CELL###` comment, have to remain as they are. Other cells can be changed, especially the ones saying `###YOUR CODE GOES HERE###` should be changed to complete the tasks.\n",
        "\n",
        "\n",
        "Your goal is to get familiar with word vectors and the problem of bias which is a common issue in Artificial Intelligence applications.\n",
        "\n",
        "## Resources\n",
        "\n",
        "You can read more on gender bias in word vectors in the paper [Man is to Computer Programmer as Woman is to Homemaker? Debiasing Word Embeddings](https://proceedings.neurips.cc/paper_files/paper/2016/file/a486cd07e4ac3d270571622f4f316ec5-Paper.pdf) by Tolga Bolukbasi, Kai-Wei Chang, James Zou, Venkatesh Saligrama, and Adam Kalai. Proceedings of NIPS 2016.\n",
        "\n",
        "There are some articles/tutorials online that explain the main concepts of the paper (neutralization and equalization of word vectors) such as [Debiasing Word Embeddings with Geometry](https://medium.com/@mihird97/debiasing-word-embeddings-with-geometry-d2c471ab4ae6).\n",
        "\n",
        "\n"
      ]
    },
    {
      "cell_type": "markdown",
      "metadata": {
        "id": "4gqe2Po4u1GK"
      },
      "source": [
        "##Task 1: Creating word Vectors for words\n",
        "\n",
        "One popular method for obtaining word vectors is to use a pre-trained model such as Word2Vec or GloVe (Global Vectors for Word Representation).\n",
        "\n",
        "🎯 The goal of is to get familiar with GloVe (Global Vectors for Word Representation), a pre-trained model used to create word vectors.\n",
        "\n",
        "Deliverables: Extract vectors for the example words provided below and then save them in a txt file. You should deliver (1) the txt file with the words and their corresponding vectors (2) a read_glove_vecs python function that reads the words and vectors from your .txt file like:\n",
        "\n",
        "```\n",
        "words, word_to_vec_map = read_glove_vecs('w2v_gnews_small.txt')\n",
        "```\n",
        "\n",
        "\n",
        "\n",
        "\n"
      ]
    },
    {
      "cell_type": "code",
      "execution_count": null,
      "metadata": {
        "colab": {
          "base_uri": "https://localhost:8080/"
        },
        "id": "aDY_J3KN6V6m",
        "outputId": "7f96e15b-ff4b-452f-c737-ed93397da70d"
      },
      "outputs": [
        {
          "output_type": "stream",
          "name": "stdout",
          "text": [
            "[==================================================] 100.0% 128.1/128.1MB downloaded\n"
          ]
        }
      ],
      "source": [
        "import numpy as np\n",
        "from scipy import spatial\n",
        "import gensim.downloader as api\n",
        "\n",
        "# Download pre-trained GloVe word vectors\n",
        "glove_vectors = api.load(\"glove-wiki-gigaword-100\")"
      ]
    },
    {
      "cell_type": "code",
      "execution_count": null,
      "metadata": {
        "colab": {
          "base_uri": "https://localhost:8080/"
        },
        "id": "gxHgX4MZ5n-U",
        "outputId": "87168ff8-cb6c-4790-8471-75374fa69f77"
      },
      "outputs": [
        {
          "output_type": "stream",
          "name": "stdout",
          "text": [
            "Similarity between man and woman 0.8323494204780473\n",
            "Similarity between man and engineer 0.42998508908380906\n",
            "Similarity between woman and engineer 0.3340311155167156\n",
            "Similarity between man and housekeeper 0.31202090264686877\n",
            "Similarity between woman and housekeeper 0.45585394751213504\n"
          ]
        }
      ],
      "source": [
        "# Get the word vectors\n",
        "man_vector = glove_vectors['man']\n",
        "woman_vector = glove_vectors['woman']\n",
        "engineer_vector = glove_vectors['engineer']\n",
        "housekeeper_vector = glove_vectors['housekeeper']\n",
        "\n",
        "# Calculate cosine similarities\n",
        "man_woman_sim = 1 - spatial.distance.cosine(man_vector, woman_vector)\n",
        "woman_engineer_sim = 1 - spatial.distance.cosine(woman_vector, engineer_vector)\n",
        "man_engineer_sim = 1 - spatial.distance.cosine(man_vector, engineer_vector)\n",
        "woman_housekeeper = 1 - spatial.distance.cosine(woman_vector, housekeeper_vector)\n",
        "man_housekeeper = 1 - spatial.distance.cosine(man_vector, housekeeper_vector)\n",
        "\n",
        "print(\"Similarity between man and woman\", man_woman_sim)\n",
        "print(\"Similarity between man and engineer\", man_engineer_sim)\n",
        "print(\"Similarity between woman and engineer\", woman_engineer_sim)\n",
        "print(\"Similarity between man and housekeeper\", man_housekeeper)\n",
        "print(\"Similarity between woman and housekeeper\", woman_housekeeper)"
      ]
    },
    {
      "cell_type": "code",
      "source": [
        "glove_vectors['roofer']"
      ],
      "metadata": {
        "colab": {
          "base_uri": "https://localhost:8080/"
        },
        "id": "ktk2Zujlieqq",
        "outputId": "84abe1f9-8628-4254-f8f1-5f5a03cd84b1"
      },
      "execution_count": null,
      "outputs": [
        {
          "output_type": "execute_result",
          "data": {
            "text/plain": [
              "array([ 3.5357e-01,  3.8755e-01,  1.0482e-02, -4.2579e-01, -1.8291e-01,\n",
              "       -2.3505e-01, -5.1144e-02, -1.3826e-01,  4.5249e-01,  6.4127e-01,\n",
              "       -5.1216e-01, -7.9776e-02,  5.4688e-01, -5.3454e-02,  1.1817e-01,\n",
              "        1.3769e-01, -1.8497e-01,  5.7835e-02, -2.1966e-01, -1.2629e-01,\n",
              "       -8.0498e-01,  5.3246e-01, -5.4035e-01,  8.3493e-02,  8.2880e-01,\n",
              "       -3.8516e-01, -5.4396e-01, -2.9857e-01, -2.0804e-01, -1.1182e-01,\n",
              "       -1.1918e-01,  5.6790e-01,  4.7933e-01, -7.9764e-02, -5.7710e-01,\n",
              "        4.5622e-01, -6.9276e-01, -7.4632e-01,  1.6228e+00, -3.8937e-01,\n",
              "       -1.4701e-02,  6.3997e-01,  4.5162e-03, -2.8373e-01, -4.3218e-02,\n",
              "        2.0813e-01, -1.2825e-01, -2.5244e-01,  2.8704e-01,  6.7475e-02,\n",
              "       -4.8324e-01, -2.3003e-01,  4.8882e-02,  2.2537e-01, -5.4346e-01,\n",
              "        9.0861e-01, -6.6059e-02, -8.4861e-03, -5.6254e-01,  1.8622e-01,\n",
              "        2.0982e-01, -9.2334e-02, -2.8016e-01,  6.3830e-02,  1.9479e-01,\n",
              "        1.1466e-01,  4.5741e-01, -9.3733e-02, -3.3728e-01, -6.5783e-01,\n",
              "       -3.5800e-01,  5.5526e-01,  4.5041e-01, -1.7486e-01,  4.2827e-01,\n",
              "       -3.6087e-01,  4.9107e-01, -1.8839e-01,  5.7001e-01, -1.7038e-01,\n",
              "        5.0014e-01,  2.6606e-01,  1.0613e-03, -5.4554e-01,  3.2835e-01,\n",
              "       -1.4527e-01,  7.3914e-01,  3.8254e-01, -6.6812e-01, -3.8164e-01,\n",
              "       -8.2700e-02, -7.6790e-01,  1.2783e-01,  3.5895e-02,  1.7940e-01,\n",
              "        9.1303e-02,  6.1251e-01,  1.8042e-01, -2.0963e-01, -4.3218e-01],\n",
              "      dtype=float32)"
            ]
          },
          "metadata": {},
          "execution_count": 3
        }
      ]
    },
    {
      "cell_type": "code",
      "source": [
        "# Get the word vectors\n",
        "man_vector = glove_vectors['man']\n",
        "woman_vector = glove_vectors['woman']\n",
        "bricklayer_vector = glove_vectors['sniper']\n",
        "nurse_vector = glove_vectors['nurse']\n",
        "\n",
        "# Calculate cosine similarities\n",
        "man_woman_sim = 1 - spatial.distance.cosine(man_vector, woman_vector)\n",
        "woman_bricklayer_sim = 1 - spatial.distance.cosine(woman_vector, bricklayer_vector)\n",
        "man_bricklayer_sim = 1 - spatial.distance.cosine(man_vector, bricklayer_vector)\n",
        "woman_nurse = 1 - spatial.distance.cosine(woman_vector, nurse_vector)\n",
        "man_nurse = 1 - spatial.distance.cosine(man_vector, nurse_vector)\n",
        "\n",
        "print(\"Similarity between man and woman\", man_woman_sim)\n",
        "print(\"Similarity between man and bricklayer\", man_bricklayer_sim)\n",
        "print(\"Similarity between woman and bricklayer\", woman_bricklayer_sim)\n",
        "print(\"Similarity between man and nurse\", man_nurse)\n",
        "print(\"Similarity between woman and nurse\", woman_nurse)"
      ],
      "metadata": {
        "colab": {
          "base_uri": "https://localhost:8080/"
        },
        "id": "5bApDMmfhWJ9",
        "outputId": "d3874d22-b125-4421-9fef-e13fc968a962"
      },
      "execution_count": null,
      "outputs": [
        {
          "output_type": "stream",
          "name": "stdout",
          "text": [
            "Similarity between man and woman 0.8323494204780473\n",
            "Similarity between man and bricklayer 0.3594678149708237\n",
            "Similarity between woman and bricklayer 0.28604313549422045\n",
            "Similarity between man and nurse 0.45623883283417743\n",
            "Similarity between woman and nurse 0.6139442959795541\n"
          ]
        }
      ]
    },
    {
      "cell_type": "markdown",
      "metadata": {
        "id": "TCxjWt6Zog4z"
      },
      "source": [
        "You should extract word vectors from the following lists. Make sure you save\n",
        "\n",
        "---\n",
        "\n",
        "them in a .txt file with a name of your choice. The file should just contain a words and their corresponding vector seperated by space. The next word should start from a new line."
      ]
    },
    {
      "cell_type": "code",
      "source": [
        "# prompt: generate vectors for names\n",
        "\n",
        "names = ['john', 'mary', 'alice', 'bob']\n",
        "vectors = []\n",
        "\n",
        "for name in names:\n",
        "    vectors.append(glove_vectors[name])\n",
        "\n",
        "# # Save the vectors to a file\n",
        "with open('name_vectors.txt', 'w') as f:\n",
        "   for i, name in enumerate(names):\n",
        "    if i < len(vectors):\n",
        "       vector_str = ' '.join([str(x) for x in vectors[i]])\n",
        "       f.write(f\"{name} {vector_str}\\n\")"
      ],
      "metadata": {
        "id": "7HutgGxqUNp1"
      },
      "execution_count": null,
      "outputs": []
    },
    {
      "cell_type": "code",
      "source": [
        "print (vectors)"
      ],
      "metadata": {
        "id": "Onx0xZDGVQDR",
        "colab": {
          "base_uri": "https://localhost:8080/"
        },
        "outputId": "c0ba8196-4ae3-45af-80e7-fa8708b66940"
      },
      "execution_count": null,
      "outputs": [
        {
          "output_type": "stream",
          "name": "stdout",
          "text": [
            "[array([-0.27474 ,  0.48681 , -0.071722, -0.81912 ,  0.11762 , -0.20044 ,\n",
            "        0.13182 , -0.58755 , -0.63817 , -0.96887 , -0.43119 , -0.5364  ,\n",
            "       -0.03408 ,  0.57087 ,  0.26207 , -1.1783  ,  0.67318 , -0.32072 ,\n",
            "       -0.86139 ,  0.60523 ,  0.32371 , -0.3771  ,  0.54802 , -0.47964 ,\n",
            "        0.11004 ,  0.016777, -0.48981 , -0.39307 ,  0.33484 ,  0.48479 ,\n",
            "        0.12482 ,  0.28522 ,  0.28021 ,  0.43461 , -0.14119 ,  0.27808 ,\n",
            "       -0.4057  ,  0.63985 ,  0.13526 ,  0.4574  , -0.48479 , -0.38527 ,\n",
            "        0.35503 ,  0.1066  , -0.8804  , -0.14358 , -0.64623 , -0.93495 ,\n",
            "        0.33534 ,  0.01711 ,  0.65455 , -0.028958,  0.46007 ,  0.22786 ,\n",
            "        0.4743  , -3.0602  , -0.39793 ,  0.15019 ,  0.4     ,  0.020987,\n",
            "        0.061569,  0.59835 ,  0.19501 , -0.12395 ,  0.46531 , -1.2265  ,\n",
            "        0.34965 ,  1.2301  ,  0.20111 ,  0.51363 , -0.068866,  0.29194 ,\n",
            "       -0.77295 , -0.46307 ,  0.15827 , -0.73436 ,  0.16282 ,  0.026314,\n",
            "       -0.59777 , -0.081658,  0.84424 , -0.082239,  0.28948 ,  0.036496,\n",
            "       -0.55019 , -0.83779 , -0.052501, -1.1628  , -0.20868 , -0.7616  ,\n",
            "       -0.07885 , -0.97592 , -0.074586,  0.87613 , -0.22696 , -0.096312,\n",
            "        0.23646 , -0.2983  , -0.25973 , -0.64336 ], dtype=float32), array([ 2.3564e-01,  1.9563e-01, -6.7503e-01,  6.0548e-02,  2.0595e-01,\n",
            "        3.6695e-01,  6.1924e-01,  1.0965e-01,  6.3827e-02, -1.1538e+00,\n",
            "       -9.1552e-02, -1.2843e-01,  1.0826e-01,  1.4653e+00, -8.1196e-03,\n",
            "       -1.0199e+00,  5.2828e-01,  6.1564e-01, -9.5583e-01,  1.2645e+00,\n",
            "       -4.5627e-01, -1.0714e-01,  7.5189e-01,  5.4875e-01,  6.4578e-01,\n",
            "        2.8467e-01, -9.0378e-02, -1.2412e+00, -1.0856e-01,  2.6791e-01,\n",
            "        2.3792e-01, -2.0695e-01,  1.1393e+00,  1.5040e-01, -4.8078e-01,\n",
            "       -1.9652e-01, -4.1286e-01,  4.4011e-01,  6.2692e-01,  1.4674e-01,\n",
            "       -2.7125e-01, -2.0788e-01, -1.0431e-01,  2.4728e-02,  1.1437e-02,\n",
            "        3.0578e-02, -5.7899e-01, -1.6042e-01,  5.8908e-01, -3.1826e-02,\n",
            "        7.3293e-01,  1.3302e-01,  8.7573e-01,  3.8191e-01,  5.7508e-02,\n",
            "       -2.5692e+00, -1.3033e-01, -2.1045e-01, -1.2441e-01, -4.2701e-01,\n",
            "        1.3087e-01,  1.2610e-01,  2.9300e-01,  1.7241e-01,  5.2229e-04,\n",
            "       -2.7807e-01,  1.1426e-01,  9.0996e-01,  4.3491e-01,  3.2131e-02,\n",
            "       -8.3854e-02,  2.5144e-01, -4.6223e-01, -2.0463e-01,  9.7619e-01,\n",
            "       -2.8003e-02,  3.2228e-01, -2.7367e-02, -4.7759e-01, -5.1794e-01,\n",
            "       -6.7891e-01, -4.4888e-02,  4.4218e-01,  6.4674e-01, -1.1393e+00,\n",
            "       -9.5018e-01, -3.2149e-01, -3.8993e-01,  4.7940e-01, -3.4555e-01,\n",
            "        3.2913e-01, -4.8734e-01,  4.9310e-01,  8.5982e-01, -8.3625e-01,\n",
            "       -4.6773e-01, -2.5227e-01, -6.3822e-01, -4.4746e-01, -3.6359e-02],\n",
            "      dtype=float32), array([ 0.28502 , -0.43555 ,  0.061894, -0.36559 , -0.13058 ,  0.095261,\n",
            "       -0.088582,  0.62312 , -0.32084 , -1.0674  ,  0.12218 , -0.1004  ,\n",
            "       -0.1687  ,  0.66209 ,  0.13047 , -0.0374  ,  0.57998 ,  0.02012 ,\n",
            "       -0.36737 ,  0.84272 ,  0.2781  , -0.044022,  0.46013 , -0.23503 ,\n",
            "        0.45543 ,  0.19722 , -0.42304 , -1.124   , -0.073268,  0.62585 ,\n",
            "        0.075901,  0.48607 ,  0.73007 , -0.022159, -0.17833 ,  0.42302 ,\n",
            "        0.5432  ,  0.065051,  0.43144 , -0.74247 , -0.61112 ,  0.26431 ,\n",
            "       -0.47062 ,  0.24314 , -0.05847 ,  0.62961 , -1.033   , -0.077198,\n",
            "        0.4743  ,  0.45899 ,  0.62828 , -0.048513,  0.87389 ,  0.047726,\n",
            "        0.24177 , -1.8042  ,  0.10511 ,  0.25617 , -0.40771 , -0.2841  ,\n",
            "       -0.016462,  0.56139 ,  0.054537,  0.37087 ,  0.14046 ,  0.13357 ,\n",
            "        0.42426 ,  0.60065 ,  0.55828 ,  0.025814, -0.10862 ,  0.18886 ,\n",
            "       -0.31124 ,  0.31989 ,  0.17413 ,  0.61894 ,  0.3684  , -0.29395 ,\n",
            "        0.026421, -0.21721 , -0.88574 ,  0.4067  ,  0.14584 ,  0.050076,\n",
            "       -0.32554 , -0.24014 ,  0.32091 , -0.65245 ,  0.064414, -0.28585 ,\n",
            "        0.37292 , -0.083321,  0.50668 ,  0.56335 , -0.22134 ,  0.24158 ,\n",
            "       -0.35193 , -0.55737 , -0.3246  , -0.10615 ], dtype=float32), array([-0.68061  ,  0.45306  , -0.068296 , -1.4225   ,  0.15986  ,\n",
            "       -0.22113  ,  0.52875  ,  0.07001  , -0.7613   , -0.89844  ,\n",
            "       -0.2422   ,  0.19191  , -0.46111  ,  0.12358  ,  0.11462  ,\n",
            "       -0.96841  ,  0.74476  , -0.32427  , -0.76933  ,  0.61663  ,\n",
            "        0.079112 ,  0.43429  ,  0.053999 , -0.67115  ,  0.33879  ,\n",
            "        0.33702  , -0.2583   , -0.57825  ,  0.34183  , -0.25935  ,\n",
            "        0.34164  ,  0.9353   ,  0.14976  ,  0.18514  , -0.22853  ,\n",
            "       -0.27084  , -0.34579  , -0.31988  ,  0.34687  ,  0.04265  ,\n",
            "        0.23702  ,  0.20928  ,  0.24016  ,  0.35676  , -0.47574  ,\n",
            "        0.31247  , -0.66464  , -1.1804   , -0.46021  , -1.1674   ,\n",
            "        0.25711  ,  0.048426 ,  0.37718  , -0.31885  ,  0.89511  ,\n",
            "       -2.1496   , -0.51459  ,  0.36824  ,  0.1563   ,  0.61659  ,\n",
            "        0.062924 ,  0.15382  ,  0.031763 ,  0.12146  ,  0.46837  ,\n",
            "       -0.40143  ,  1.0261   ,  1.1829   ,  0.080187 ,  0.47331  ,\n",
            "        0.28114  ,  0.13635  , -0.89878  , -0.35996  ,  0.24324  ,\n",
            "       -0.04441  ,  0.25063  ,  0.029754 , -0.46803  ,  0.18111  ,\n",
            "       -0.231    , -0.49057  , -0.11501  , -0.79078  , -0.54196  ,\n",
            "        0.13733  , -0.3673   ,  0.14228  , -0.56682  ,  0.069553 ,\n",
            "        0.59366  ,  0.0098958,  0.12501  ,  1.285    , -0.46778  ,\n",
            "       -0.2527   , -0.37653  , -0.038771 ,  0.49754  , -0.020802 ],\n",
            "      dtype=float32)]\n"
          ]
        }
      ]
    },
    {
      "cell_type": "code",
      "execution_count": null,
      "metadata": {
        "id": "3r3CR1Jannqh",
        "colab": {
          "base_uri": "https://localhost:8080/"
        },
        "outputId": "e48924cf-2107-4528-8b39-7623904f1fc8"
      },
      "outputs": [
        {
          "output_type": "stream",
          "name": "stdout",
          "text": [
            "['father', 'mother', 'man', 'woman', 'doctor', 'lawyer', 'engineer', 'nurse', 'teacher', 'accountant', 'architect', 'artist', 'writer', 'chef', 'designer', 'dentist', 'entrepreneur', 'firefighter', 'journalist', 'mechanic', 'musician', 'paramedic', 'photographer', 'psychologist', 'scientist', 'soldier', 'surgeon', 'vet', 'receptionist', 'reading', 'writing', 'painting', 'singing', 'cooking', 'traveling', 'volunteering', 'meditating', 'shopping', 'phone', 'computer', 'car', 'house', 'job', 'school', 'family', 'friends', 'food', 'drink', 'toys', 'books', 'movies', 'concerts', 'sports', 'electronics', 'furniture', 'clothing']\n"
          ]
        }
      ],
      "source": [
        "# Here are the lists of words you should extract word vectors from GloVe, combine all lists in one file\n",
        "\n",
        "sample = [\"father\", \"mother\", \"man\", \"woman\"]\n",
        "\n",
        "professions = [\"doctor\", \"lawyer\", \"engineer\", \"nurse\", \"teacher\", \"accountant\", \"architect\", \"artist\", \"writer\", \"chef\", \"designer\", \"dentist\", \"entrepreneur\", \"firefighter\", \"journalist\", \"mechanic\", \"musician\", \"paramedic\", \"photographer\", \"psychologist\", \"scientist\", \"soldier\", \"surgeon\", \"vet\", \"receptionist\"]\n",
        "activities = [\"reading\", \"writing\", \"painting\", \"singing\", \"cooking\", \"traveling\", \"volunteering\", \"meditating\", \"shopping\"]\n",
        "items = [\"phone\", \"computer\", \"car\", \"house\", \"job\", \"school\", \"family\", \"friends\", \"food\", \"drink\", \"toys\", \"books\", \"movies\", \"concerts\", \"sports\", \"electronics\", \"furniture\", \"clothing\"]\n",
        "names = [\"Alex\", \"Charlotte\", \"David\", \"Emma\", \"Ethan\", \"Isabella\", \"Lily\", \"Oliver\", \"Sophia\", \"William\", 'john', 'anna', 'sophie', 'ronaldo', 'shakira', 'mario', 'maria', 'tom', 'katy']\n",
        "\n",
        "words = sample + professions + activities + items\n",
        "print(words)\n",
        "with open('words.txt', 'w') as f:\n",
        "  for w in words:\n",
        "    f.write(w + \" \")\n",
        "    try:\n",
        "      f.write(\" \".join(map(str, list(glove_vectors[w]))))\n",
        "    except Exception as e:\n",
        "      print(e)\n",
        "      pass\n",
        "    f.write('\\n')"
      ]
    },
    {
      "cell_type": "code",
      "execution_count": null,
      "metadata": {
        "id": "juZSoWnrb4gE"
      },
      "outputs": [],
      "source": [
        "def read_glove_vecs(glove_file):\n",
        "    with open(glove_file, 'r') as f:\n",
        "        words = set()\n",
        "        word_to_vec_map = {}\n",
        "        for line in f:\n",
        "            line = line.strip().split()\n",
        "            curr_word = line[0]\n",
        "            words.add(curr_word)\n",
        "            word_to_vec_map[curr_word] = np.array(line[1:], dtype=np.float64)\n",
        "\n",
        "    return words, word_to_vec_map"
      ]
    },
    {
      "cell_type": "code",
      "execution_count": null,
      "metadata": {
        "colab": {
          "base_uri": "https://localhost:8080/"
        },
        "id": "9DeDzAHLb1dC",
        "outputId": "05f66dfe-abb5-4963-b29a-db4414aca584"
      },
      "outputs": [
        {
          "output_type": "stream",
          "name": "stdout",
          "text": [
            "dict_keys(['father', 'mother', 'man', 'woman', 'doctor', 'lawyer', 'engineer', 'nurse', 'teacher', 'accountant', 'architect', 'artist', 'writer', 'chef', 'designer', 'dentist', 'entrepreneur', 'firefighter', 'journalist', 'mechanic', 'musician', 'paramedic', 'photographer', 'psychologist', 'scientist', 'soldier', 'surgeon', 'vet', 'receptionist', 'reading', 'writing', 'painting', 'singing', 'cooking', 'traveling', 'volunteering', 'meditating', 'shopping', 'phone', 'computer', 'car', 'house', 'job', 'school', 'family', 'friends', 'food', 'drink', 'toys', 'books', 'movies', 'concerts', 'sports', 'electronics', 'furniture', 'clothing'])\n",
            "{'accountant', 'clothing', 'writer', 'reading', 'doctor', 'phone', 'receptionist', 'school', 'mechanic', 'books', 'journalist', 'house', 'drink', 'vet', 'psychologist', 'entrepreneur', 'scientist', 'shopping', 'friends', 'paramedic', 'photographer', 'singing', 'architect', 'meditating', 'surgeon', 'family', 'toys', 'concerts', 'designer', 'dentist', 'traveling', 'woman', 'teacher', 'cooking', 'writing', 'chef', 'car', 'firefighter', 'sports', 'food', 'movies', 'job', 'computer', 'nurse', 'artist', 'volunteering', 'man', 'father', 'lawyer', 'engineer', 'musician', 'soldier', 'mother', 'painting', 'furniture', 'electronics'}\n"
          ]
        }
      ],
      "source": [
        "words, word_to_vec_map = read_glove_vecs('words.txt')\n",
        "print(word_to_vec_map.keys())\n",
        "print(words)"
      ]
    },
    {
      "cell_type": "markdown",
      "metadata": {
        "id": "F7tR1cKCK2ae"
      },
      "source": [
        "*斜体文本*[link text](https://)It is common practice to save the word embeddings into a .txt format file and then load them with a function like:\n",
        "\n",
        "`words, word_to_vec_map = read_glove_vecs('w2v_gnews_small.txt')`\n",
        "\n",
        "You should create a function named 'read_glove_vecs' to open and read the .txt file with the word vectors."
      ]
    },
    {
      "cell_type": "markdown",
      "source": [],
      "metadata": {
        "id": "ecEroIq_1YZm"
      }
    },
    {
      "cell_type": "markdown",
      "metadata": {
        "id": "HjltpMXUqYEE"
      },
      "source": [
        "## Task 2 - Implement Cosine Similarity\n",
        "\n",
        "We can measure how similar are two words using cosine similarity. We would expect non-gender specific words to be equally distant from gender specific words.\n",
        "\n",
        "🎯 The goal is to get familiar with calculating cosince similarity using python and try to find similar words that are an example of bias and unbiased vectors. We can measure how similar two words are using cosine similarity!\n",
        "\n",
        "Deliverables: Provide code for implementing cosine distance in Python. Run the example words, and try measuring the distance of different words. Can you find a biased and an unbiased example?"
      ]
    },
    {
      "cell_type": "markdown",
      "metadata": {
        "id": "q8EJ6U-JIIBy"
      },
      "source": [
        "\n",
        "To calculate cosine similarity, we need to take the cosine of the angle between these two vectors. Here are the steps:\n",
        "\n",
        "1. Calculate the dot product of A and B\n",
        "   - Multiply each element in A with the corresponding element in B\n",
        "   - Sum all those products\n",
        "   - Call this dot_product\n",
        "\n",
        "2. Calculate the magnitudes (or lengths) of A and B\n",
        "   - Square each element in A, sum them, and take the square root. Let's call this mag_A.\n",
        "   - Do the same for B. Let's call this mag_B.\n",
        "\n",
        "3. Compute cosine similarity:\n",
        "   cosine_similarity = dot_product / (mag_A * mag_B)\n",
        "\n",
        "The closer this value is to 1, the smaller the angle and the more similar document A is to document B.\n",
        "\n",
        "Thanks to Python, you do not need to do these time-consuming calculations manually! Especially for step 1 and step 2, there is a library called 'numpy' with functions that can help you implement cosine distance in Python!"
      ]
    },
    {
      "cell_type": "code",
      "execution_count": null,
      "metadata": {
        "id": "zqkHs8YvGSAw"
      },
      "outputs": [],
      "source": [
        "def cosine_similarity(u, v):\n",
        "    \"\"\"\n",
        "    Cosine similarity reflects the degree of similariy between u and v\n",
        "\n",
        "    Arguments:\n",
        "        u -- a word vector of shape (n,)\n",
        "        v -- a word vector of shape (n,)\n",
        "\n",
        "    Returns:\n",
        "        cosine_similarity -- the cosine similarity between u and v defined by the formula above.\n",
        "    \"\"\"\n",
        "\n",
        "    distance = 0.0\n",
        "\n",
        "    ### START CODE HERE ###\n",
        "\n",
        "    D = np.dot(u, v)\n",
        "    normv = np.linalg.norm(v)\n",
        "    # Compute the dot product between u and v (≈1 line)\n",
        "    dot = np.dot(u,v)\n",
        "    # Compute th1e L2 norm of u (≈1 line)\n",
        "    norm_u = np.linalg.norm(u)\n",
        "\n",
        "    # Compute the L2 norm of v (≈1 line)\n",
        "    norm_v = np.linalg.norm(v)\n",
        "    # Compute the cosine similarity defined by formula (1) (≈1 line)\n",
        "    cosine_similarity = dot/(norm_u * norm_v)\n",
        "    ### END CODE HERE ###\n",
        "\n",
        "    return cosine_similarity"
      ]
    },
    {
      "cell_type": "code",
      "execution_count": null,
      "metadata": {
        "colab": {
          "base_uri": "https://localhost:8080/"
        },
        "id": "5vhCtpyVGSC8",
        "outputId": "257387b9-0a70-46b9-be8e-2b78a9d41d82"
      },
      "outputs": [
        {
          "output_type": "stream",
          "name": "stdout",
          "text": [
            "[ 0.64706  -0.068067  0.15468  -0.17408  -0.29134   0.76999  -0.3192\n",
            " -0.25663  -0.25082  -0.036737 -0.25509   0.29636   0.5776    0.49641\n",
            "  0.19167  -0.83888   0.58482  -0.38717  -0.71591   0.9519   -0.37966\n",
            " -0.1131    0.47154   0.20921   0.38197   0.067582 -0.92879  -1.1237\n",
            "  0.84831   0.68744  -0.15472   0.92714   0.53371  -0.037392 -0.856\n",
            "  0.19056  -0.014594  0.15186   0.53514  -0.20306  -0.35164   0.33152\n",
            "  1.1306   -0.72787  -0.19724   0.031659 -0.24041  -0.057617  0.60473\n",
            " -0.49233  -0.24405  -0.3184    0.96156   1.0895    0.21534  -2.0542\n",
            " -1.0615    0.052439  0.57958   0.2748    0.91587   0.85195   0.36113\n",
            " -0.31901   0.7784   -0.36865   0.64387   0.33104  -0.27181   0.58524\n",
            " -0.15143   0.11121   0.2126   -0.60345   0.16148   0.32952  -0.1354\n",
            " -0.30629  -0.89143   0.091912  0.49753   0.55932   0.19329   0.044859\n",
            " -1.0416   -0.41566  -0.54174  -0.7244   -0.57492  -1.1188    0.087097\n",
            " -0.2992    0.87227   0.86996  -0.89641  -0.28259  -0.47295  -0.74062\n",
            " -0.39     -0.78099 ]\n",
            "cosine_similarity(father, mother) =  0.8656661174315731\n",
            "cosine_similarity(woman, man) =  0.8323494204818742\n",
            "cosine_similarity(mother - woman, father - man) =  0.7574772758812851\n"
          ]
        }
      ],
      "source": [
        "father = word_to_vec_map[\"father\"]\n",
        "mother = word_to_vec_map[\"mother\"]\n",
        "woman = word_to_vec_map[\"woman\"]\n",
        "man = word_to_vec_map[\"man\"]\n",
        "\n",
        "print(father)\n",
        "print(\"cosine_similarity(father, mother) = \", cosine_similarity(father, mother))\n",
        "print(\"cosine_similarity(woman, man) = \",cosine_similarity(woman, man))\n",
        "print(\"cosine_similarity(mother - woman, father - man) = \",cosine_similarity(mother - woman, father - man))"
      ]
    },
    {
      "cell_type": "code",
      "execution_count": null,
      "metadata": {
        "id": "-zgiOKWyGSEp",
        "colab": {
          "base_uri": "https://localhost:8080/"
        },
        "outputId": "600acede-e646-4e15-b166-2fd1e6a753ee"
      },
      "outputs": [
        {
          "output_type": "stream",
          "name": "stdout",
          "text": [
            "cosine_similarity(father, lawyer) =  0.5598059835430866\n",
            "cosine_similarity(mother, doctor) =  0.6244892002818475\n"
          ]
        }
      ],
      "source": [
        "father = word_to_vec_map[\"father\"]\n",
        "mother = word_to_vec_map[\"mother\"]\n",
        "doctor = word_to_vec_map[\"doctor\"]\n",
        "lawyer = word_to_vec_map[\"lawyer\"]\n",
        "\n",
        "\n",
        "print(\"cosine_similarity(father, lawyer) = \", cosine_similarity(father, lawyer))\n",
        "print(\"cosine_similarity(mother, doctor) = \",cosine_similarity(mother, doctor))\n"
      ]
    },
    {
      "cell_type": "code",
      "execution_count": null,
      "metadata": {
        "id": "LcKKFCYWJdPk",
        "colab": {
          "base_uri": "https://localhost:8080/"
        },
        "outputId": "ff14eb03-aa45-4d7b-e5b6-abc3fc73a91e"
      },
      "outputs": [
        {
          "output_type": "stream",
          "name": "stdout",
          "text": [
            "cosine_similarity(man, doctor) =  0.6092161526918838\n",
            "cosine_similarity(woman, doctor) =  0.6333478421709177\n",
            "cosine_similarity(woman, nurse) =  0.6139442265853785\n",
            "cosine_similarity(man, nurse) =  0.6139442265853785\n",
            "cosine_similarity(nurse, doctor) =  0.7521508511011283\n"
          ]
        }
      ],
      "source": [
        "man = word_to_vec_map[\"man\"]\n",
        "woman = word_to_vec_map[\"woman\"]\n",
        "nurse = word_to_vec_map[\"nurse\"]\n",
        "doctor = word_to_vec_map[\"doctor\"]\n",
        "\n",
        "\n",
        "print(\"cosine_similarity(man, doctor) = \", cosine_similarity(man, doctor))\n",
        "print(\"cosine_similarity(woman, doctor) = \", cosine_similarity(woman, doctor))\n",
        "print(\"cosine_similarity(woman, nurse) = \",cosine_similarity(woman, nurse))\n",
        "print(\"cosine_similarity(man, nurse) = \",cosine_similarity(woman, nurse))\n",
        "print(\"cosine_similarity(nurse, doctor) = \",cosine_similarity(nurse, doctor))\n",
        "\n"
      ]
    },
    {
      "cell_type": "markdown",
      "metadata": {
        "id": "dBbcyxv0Pm0b"
      },
      "source": [
        "This is the code for computing word analogy given three words (word_a, word_b, word_c), or for example ('man', 'father', 'woman'), the following code find the word vector of a word that completes the analogy. In this example the word vector we expect is 'mother'."
      ]
    },
    {
      "cell_type": "code",
      "execution_count": null,
      "metadata": {
        "id": "FTKh2OqAGSG2",
        "colab": {
          "base_uri": "https://localhost:8080/"
        },
        "outputId": "191d124a-8d09-456b-a962-c111625314ff"
      },
      "outputs": [
        {
          "output_type": "stream",
          "name": "stdout",
          "text": [
            "cosine_similarity(mother - woman, father - man) =  0.7574772758812851\n"
          ]
        }
      ],
      "source": [
        "print(\"cosine_similarity(mother - woman, father - man) = \",cosine_similarity(woman - mother, man - father))"
      ]
    },
    {
      "cell_type": "markdown",
      "metadata": {
        "id": "mLK9-i5JSjOH"
      },
      "source": [
        "## Task 3: Remove bias from word vectors\n",
        "\n",
        "1.   List item\n",
        "2.   List item\n",
        "\n",
        "\n",
        "\n",
        "\n",
        "*   List item\n",
        "\n",
        "\n",
        "\n",
        "After getting familiar with all the tools we need, now it's time to actually solve the problem of bias in word vectors.\n",
        "\n",
        "🎯 The goal is to implement a neutralize and equalize Python functions to remove the bias from the word vectors.\n",
        "\n",
        "Deliverables: (1) Complete the python code for the neutralize and equalize python functions following [Man is to Computer Programmer as Woman is to Homemaker? Debiasing Word Embeddings](https://proceedings.neurips.cc/paper_files/paper/2016/file/a486cd07e4ac3d270571622f4f316ec5-Paper.pdf) by Tolga Bolukbasi, Kai-Wei Chang, James Zou, Venkatesh Saligrama, and Adam Kalai. Proceedings of NIPS 2016. The code should run without any errors. (2) Provide examples before and after removing bias.\n"
      ]
    },
    {
      "cell_type": "markdown",
      "metadata": {
        "id": "lQHPH-1t4ULQ"
      },
      "source": [
        "To remove the gender bias from non-gender specific word vectors, we need represent the semantic concept of gender as a vector. We can approximate that vector by subtracting female and male word vectors. This means we can compute a vector 'vgender = v1 - v2', where 'v1' represents the word vector corresponding to the word woman, and 'v2' corresponds to the word vector corresponding to the word man. The resulting vector roughly encodes the concept of \"gender\"."
      ]
    },
    {
      "cell_type": "code",
      "execution_count": null,
      "metadata": {
        "id": "T-CTO9ESOasA",
        "colab": {
          "base_uri": "https://localhost:8080/"
        },
        "outputId": "d0dea1af-d31e-4807-c921-8ba6584aa152"
      },
      "outputs": [
        {
          "output_type": "stream",
          "name": "stdout",
          "text": [
            "(100,)\n"
          ]
        }
      ],
      "source": [
        "vgender = word_to_vec_map['woman'] - word_to_vec_map['man']\n",
        "print(vgender.shape)"
      ]
    },
    {
      "cell_type": "markdown",
      "metadata": {
        "id": "ikjuRnrkXDS6"
      },
      "source": [
        "*Now*, you will consider the cosine similarity of different words with vgender. A positive value of similarity means that the words are closer to 'woman' and a negative cosine similarity means the words are closer to 'man'."
      ]
    },
    {
      "cell_type": "code",
      "execution_count": null,
      "metadata": {
        "id": "9kuUi4ERLre4",
        "colab": {
          "base_uri": "https://localhost:8080/"
        },
        "outputId": "12ae33fd-6df0-4a74-a271-c4c9c00d7a21"
      },
      "outputs": [
        {
          "output_type": "stream",
          "name": "stdout",
          "text": [
            "List of names and their similarities with constructed vector:\n",
            "john -0.22835018143113975\n",
            "anna 0.30979131297050017\n",
            "sophie 0.20268358069637615\n",
            "ronaldo -0.3328964609245837\n",
            "shakira 0.18802692599095133\n",
            "mario -0.2162342870868733\n",
            "maria 0.20294359746896867\n",
            "tom -0.09193089947224613\n",
            "katy 0.18688587310631186\n"
          ]
        }
      ],
      "source": [
        "print ('List of names and their similarities with constructed vector:')\n",
        "\n",
        "# girls and boys name\n",
        "name_list = ['john', 'anna', 'sophie', 'ronaldo', 'shakira', 'mario', 'maria', 'tom', 'katy']\n",
        "\n",
        "for w in name_list:\n",
        "    print (w, cosine_similarity(glove_vectors[w], vgender))"
      ]
    },
    {
      "cell_type": "markdown",
      "metadata": {
        "id": "wBBMvt10XkZU"
      },
      "source": [
        "As you can see, female first names tend to have a positive cosine similarity with our constructed vector\n",
        ", while male first names tend to have a negative cosine similarity. This is not suprising, and the result seems acceptable.\n",
        "\n",
        "But let's try with some other words."
      ]
    },
    {
      "cell_type": "code",
      "execution_count": null,
      "metadata": {
        "id": "jWYlM-6ILrgt",
        "colab": {
          "base_uri": "https://localhost:8080/"
        },
        "outputId": "7253c020-e16b-4aa5-aeff-e2b7dea472fe"
      },
      "outputs": [
        {
          "output_type": "stream",
          "name": "stdout",
          "text": [
            "Other words and their similarities:\n",
            "lipstick 0.18037245041257724\n",
            "guns -0.0996444601086526\n",
            "science -0.02147576767329267\n",
            "arts 0.014846746160326718\n",
            "literature 0.08261853631998892\n",
            "warrior -0.15634200978975626\n",
            "doctor 0.10942282004815239\n",
            "tree -0.08868358973431138\n",
            "receptionist 0.28068756918121013\n",
            "technology -0.1447452708072975\n",
            "fashion 0.08097436065697468\n",
            "teacher 0.15233696756494824\n",
            "engineer -0.12300011184750503\n",
            "pilot -0.04113393770023297\n",
            "computer -0.11545715310143051\n",
            "singer 0.11372642874939169\n"
          ]
        }
      ],
      "source": [
        "print('Other words and their similarities:')\n",
        "word_list = ['lipstick', 'guns', 'science', 'arts', 'literature', 'warrior','doctor', 'tree', 'receptionist',\n",
        "             'technology',  'fashion', 'teacher', 'engineer', 'pilot', 'computer', 'singer']\n",
        "for w in word_list:\n",
        "    print (w, cosine_similarity(glove_vectors[w], vgender))"
      ]
    },
    {
      "cell_type": "code",
      "source": [
        "cosine_similarity(neutralize(\"computer\", vgender, word_to_vec_map), vgender)"
      ],
      "metadata": {
        "colab": {
          "base_uri": "https://localhost:8080/"
        },
        "id": "ZEIVhFSWMwGH",
        "outputId": "b32c6f47-14b6-4fb3-dfd3-4b6a060ec7f9"
      },
      "execution_count": null,
      "outputs": [
        {
          "output_type": "execute_result",
          "data": {
            "text/plain": [
              "-2.0990663614645484e-17"
            ]
          },
          "metadata": {},
          "execution_count": 23
        }
      ]
    },
    {
      "cell_type": "markdown",
      "metadata": {
        "id": "MeO1JJMKX502"
      },
      "source": [
        "Do you notice anything surprising? It is astonishing how these results reflect certain unhealthy gender stereotypes. For example, \"computer\" is closer to \"man\" while \"literature\" is closer to \"woman\". Ouch!\n",
        "\n",
        "We'll see below how to reduce the bias of these vectors, using an algorithm due to Boliukbasi et al., 2016. Note that some word pairs such as \"actor\"/\"actress\" or \"grandmother\"/\"grandfather\" should remain gender specific, while other words such as \"receptionist\" or \"technology\" should be neutralized, i.e. not be gender-related. You will have to treat these two type of words differently when debiasing."
      ]
    },
    {
      "cell_type": "markdown",
      "metadata": {
        "id": "hMjnbHM4YAtg"
      },
      "source": [
        "\n",
        "An approach to remove the bias would be to neutralize and equalize the bias for non-gender specific words, following Bolukbasi et al, 2016.\n",
        "\n",
        "> Tolga Bolukbasi, Kai-Wei Chang, James Zou, Venkatesh Saligrama, and Adam Kalai. 2016. Man is to computer programmer as woman is to homemaker? debiasing word embeddings. In Proceedings of the 30th International Conference on Neural Information Processing Systems (NIPS'16). Curran Associates Inc., Red Hook, NY, USA, 4356-4364."
      ]
    },
    {
      "cell_type": "code",
      "execution_count": null,
      "metadata": {
        "id": "3j5LVB38Lrkp"
      },
      "outputs": [],
      "source": [
        "def neutralize(word, g, word_to_vec_map):\n",
        "    \"\"\"\n",
        "    Removes the bias of \"word\" by projecting it on the space orthogonal to the bias axis.\n",
        "    This function ensures that gender neutral words are zero in the gender subspace.\n",
        "\n",
        "    Arguments:\n",
        "        word -- string indicating the word to debias\n",
        "        g -- numpy-array of shape (100,), corresponding to the bias axis (such as gender)\n",
        "        word_to_vec_map -- dictionary mapping words to their corresponding vectors. ok\n",
        "    Returns:\n",
        "        e_debiased -- neutralized word vector representation of the input \"word\"\n",
        "    \"\"\"\n",
        "\n",
        "    ### START CODE HERE ###\n",
        "    # Select word vector representation of \"word\". Use word_to_vec_map. (≈ 1 line)\n",
        "    e = word_to_vec_map[word]\n",
        "\n",
        "    # Compute e_biascomponent using the formula give above. (≈ 1 line)\n",
        "    e_biascomponent = np.dot(e,g) / (np.linalg.norm(g))**2 * g\n",
        "\n",
        "    # Neutralize e by substracting e_biascomponent from it\n",
        "    # e_debiased should be equal to its orthogonal projection. (≈ 1 line)\n",
        "    e_debiased = e - e_biascomponent\n",
        "    ### END CODE HERE ###\n",
        "\n",
        "    return e_debiased"
      ]
    },
    {
      "cell_type": "code",
      "execution_count": null,
      "metadata": {
        "id": "guR-_udRLrms",
        "colab": {
          "base_uri": "https://localhost:8080/"
        },
        "outputId": "2840559f-9cc5-46f5-8800-131c51312a62"
      },
      "outputs": [
        {
          "output_type": "stream",
          "name": "stdout",
          "text": [
            "cosine similarity between receptionist and vgender, before neutralizing:  0.2806875926160281\n",
            "cosine similarity between receptionist and vgender, after neutralizing:  3.3299821491579914e-17\n"
          ]
        }
      ],
      "source": [
        "e = \"receptionist\"\n",
        "print(\"cosine similarity between \" + e + \" and vgender, before neutralizing: \", cosine_similarity(word_to_vec_map[\"receptionist\"], vgender))\n",
        "\n",
        "e_debiased = neutralize(\"receptionist\", vgender, word_to_vec_map)\n",
        "print(\"cosine similarity between \" + e + \" and vgender, after neutralizing: \", cosine_similarity(e_debiased, vgender))"
      ]
    },
    {
      "cell_type": "markdown",
      "metadata": {
        "id": "gXsIwPgsYvAw"
      },
      "source": [
        "Next, lets see how debiasing can also be applied to word pairs such as \"actress\" and \"actor.\" Equalization is applied to pairs of words that you might want to have differ only through the gender property. As a concrete example, suppose that \"actress\" is closer to \"babysit\" than \"actor.\" By applying neutralizing to \"babysit\" we can reduce the gender-stereotype associated with babysitting. But this still does not guarantee that \"actor\" and \"actress\" are equidistant from \"babysit.\" The equalization algorithm takes care of this.\n",
        "\n",
        "The key idea behind equalization is to make sure that a particular pair of words are equally distant."
      ]
    },
    {
      "cell_type": "code",
      "execution_count": null,
      "metadata": {
        "id": "4e-z0teTLrox"
      },
      "outputs": [],
      "source": [
        "def equalize(pair, bias_axis, word_to_vec_map):\n",
        "    \"\"\"\n",
        "    Debias gender specific words by following the equalize method described in the figure above.\n",
        "\n",
        "    Arguments:\n",
        "    pair -- pair of strings of gender specific words to debias, e.g. (\"actress\", \"actor\")\n",
        "    bias_axis -- numpy-array of shape (100,), vector corresponding to the bias axis, e.g. gender\n",
        "    word_to_vec_map -- dictionary mapping words to their corresponding vectors\n",
        "\n",
        "    Returns\n",
        "    e_1 -- word vector corresponding to the first word\n",
        "    e_2 -- word vector corresponding to the second word\n",
        "    \"\"\"\n",
        "\n",
        "    ### START CODE HERE ###\n",
        "    # Step 1: Select word vector representation of \"word\". Use word_to_vec_map. (≈ 2 lines)\n",
        "    w1, w2 = pair\n",
        "    e_w1, e_w2 = word_to_vec_map[w1], word_to_vec_map[w2]\n",
        "\n",
        "    # Step 2: Compute the mean of e_w1 and e_w2 (≈ 1 line)\n",
        "    mu = (e_w1 + e_w2) / 2\n",
        "\n",
        "    # Step 3: Compute the projections of mu over the bias axis and the orthogonal axis (≈ 2 lines)\n",
        "    mu_B = np.dot(mu,bias_axis) / (np.linalg.norm(bias_axis))**2 * bias_axis\n",
        "    mu_orth = mu - mu_B\n",
        "\n",
        "    # Step 4: Use equations (7) and (8) to compute e_w1B and e_w2B (≈2 lines)\n",
        "    e_w1B = np.dot(e_w1,bias_axis) / (np.linalg.norm(bias_axis))**2 * bias_axis\n",
        "    e_w2B = np.dot(e_w2,bias_axis) / (np.linalg.norm(bias_axis))**2 * bias_axis\n",
        "\n",
        "    # Step 5: Adjust the Bias part of e_w1B and e_w2B using the formulas (9) and (10) given above (≈2 lines)\n",
        "    corrected_e_w1B = (np.sqrt(np.linalg.norm(1-np.linalg.norm(mu_orth)**2)) * (e_w1B - mu_B) /\n",
        "    np.linalg.norm(e_w1 - mu_orth - mu_B))\n",
        "    corrected_e_w2B = (np.sqrt(np.linalg.norm(1-np.linalg.norm(mu_orth)**2)) * (e_w2B - mu_B) /\n",
        "    np.linalg.norm(e_w2 - mu_orth - mu_B))\n",
        "\n",
        "    # Step 6: Debias by equalizing e1 and e2 to the sum of their corrected projections (≈2 lines)\n",
        "    e1 = corrected_e_w1B + mu_orth\n",
        "    e2 = corrected_e_w2B + mu_orth\n",
        "\n",
        "    ### END CODE HERE ###\n",
        "\n",
        "    return e1, e2"
      ]
    },
    {
      "cell_type": "code",
      "execution_count": null,
      "metadata": {
        "id": "nFnDkomcLrq3",
        "colab": {
          "base_uri": "https://localhost:8080/"
        },
        "outputId": "ade86c81-4647-495e-ead7-e737dd6d5bb9"
      },
      "outputs": [
        {
          "output_type": "stream",
          "name": "stdout",
          "text": [
            "cosine similarities before equalizing:\n",
            "cosine_similarity(word_to_vec_map[\"man\"], gender) =  -0.18769064329512627\n",
            "cosine_similarity(word_to_vec_map[\"woman\"], gender) =  0.388177000149502\n",
            "\n",
            "cosine similarities after equalizing:\n",
            "cosine_similarity(e1, gender) =  -0.7011266936301774\n",
            "cosine_similarity(e2, gender) =  0.7011266936301777\n"
          ]
        }
      ],
      "source": [
        "print(\"cosine similarities before equalizing:\")\n",
        "print(\"cosine_similarity(word_to_vec_map[\\\"man\\\"], gender) = \", cosine_similarity(word_to_vec_map[\"man\"], vgender))\n",
        "print(\"cosine_similarity(word_to_vec_map[\\\"woman\\\"], gender) = \", cosine_similarity(word_to_vec_map[\"woman\"], vgender))\n",
        "print()\n",
        "e1, e2 = equalize((\"man\", \"woman\"), vgender, word_to_vec_map)\n",
        "print(\"cosine similarities after equalizing:\")\n",
        "print(\"cosine_similarity(e1, gender) = \", cosine_similarity(e1, vgender))\n",
        "print(\"cosine_similarity(e2, gender) = \", cosine_similarity(e2, vgender))"
      ]
    },
    {
      "cell_type": "code",
      "source": [],
      "metadata": {
        "id": "YVz0uwCde3pS"
      },
      "execution_count": null,
      "outputs": []
    }
  ],
  "metadata": {
    "colab": {
      "collapsed_sections": [
        "HjltpMXUqYEE",
        "mLK9-i5JSjOH"
      ],
      "provenance": [],
      "gpuType": "T4"
    },
    "kernelspec": {
      "display_name": "Python 3",
      "name": "python3"
    },
    "language_info": {
      "name": "python"
    },
    "accelerator": "GPU"
  },
  "nbformat": 4,
  "nbformat_minor": 0
}